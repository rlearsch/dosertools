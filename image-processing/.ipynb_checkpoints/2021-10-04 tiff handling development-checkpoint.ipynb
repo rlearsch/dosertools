{
 "cells": [
  {
   "cell_type": "code",
   "execution_count": null,
   "metadata": {},
   "outputs": [],
   "source": [
    "### PROBABLY best to generate the image_Sequence ONCE and then keep passing it to the next functino.... ###\n",
    "def define_image_parameters(image_sequence):\n",
    "    #image_sequence = skimage.io.imread_collection(folder+'//*', plugin=\"tifffile\")\n",
    "    first_frame = image_sequence[0]\n",
    "    \n",
    "    thresh_otsu = threshold_otsu(first_frame)\n",
    "    binary_otsu = first_frame < thresh_otsu\n",
    "    binary_otsu = np.array(binary_otsu)*255\n",
    "    binary_otsu = np.uint8(binary_otsu)\n",
    "\n",
    "    # Crop down to nozzle: \n",
    "    ## width = nozzle + 2%\n",
    "    ## height = nozzle * 2.5\n",
    "    non_zero_indicies = np.nonzero(binary_otsu[nozzle_row,:])\n",
    "    first_non_zero = non_zero_indicies[0][0]\n",
    "    last_non_zero = non_zero_indicies[0][-1]\n",
    "    diameter = last_non_zero - first_non_zero #pix\n",
    "    nozzle_diameter = diameter #white to white distance\n",
    "    crop_width_start = int(first_non_zero-int(nozzle_diameter*crop_width_coefficient))\n",
    "    crop_width_end = int(last_non_zero+int(nozzle_diameter*crop_width_coefficient))\n",
    "    crop_bottom = int(nozzle_diameter*crop_height_coefficient)\n",
    "    #hor\n",
    "    crop_top = int(nozzle_diameter*crop_nozzle_coef)\n",
    "    return crop_top, crop_bottom, crop_width_start, crop_width_end, nozzle_diameter"
   ]
  },
  {
   "cell_type": "code",
   "execution_count": null,
   "metadata": {},
   "outputs": [],
   "source": [
    "def nonzero_runs(array):\n",
    "    ## Returns array with shape (m, 2), where m is the number of \"runs\" of non-zeros\n",
    "    ## the first column sis the index of the first non-zero, the second is the index \n",
    "    ## of the first zero element after the run\n",
    "    ## modified from stackexchange comment\n",
    "    contains_one = np.concatenate(([0], (~np.equal(array, 0).view(np.int8))+2, [0]))\n",
    "    absdiff = np.abs(np.diff(contains_one))\n",
    "    # Runs start and end where absdiff is 1.\n",
    "    ranges = np.where(absdiff == 1)[0].reshape(-1, 2)\n",
    "    return ranges\n",
    "\n",
    "def zero_runs(array):\n",
    "    # # it creates an array with shape (m, 2), where m is the number of \"runs\" of zeros. \n",
    "    ## The first column is the index of the first 0 in each run, and the second is the index of the first nonzero element after the run\n",
    "    \n",
    "    # Create an array that is 1 where a is 0, and pad each end with an extra 0.\n",
    "    iszero = np.concatenate(([0], np.equal(array, 0).view(np.int8), [0]))\n",
    "    absdiff = np.abs(np.diff(iszero))\n",
    "    # Runs start and end where absdiff is 1.\n",
    "    ranges = np.where(absdiff == 1)[0].reshape(-1, 2)\n",
    "    return ranges"
   ]
  },
  {
   "cell_type": "code",
   "execution_count": null,
   "metadata": {},
   "outputs": [],
   "source": [
    "def convert_tiff_to_binary(experimental_sequence, bg_median):\n",
    "    \"\"\"\n",
    "    Takes as arguments the skiamge image sequence holding the experimental video and the background image to subtract. \n",
    "    To do: optional arguments to save the output of the different steps\n",
    "    \"\"\"\n",
    "    #image_sequence = skimage.io.imread_collection(filepath+'//*', plugin=\"tifffile\")\n",
    "   \n",
    "    file = folder[:-14]\n",
    "\n",
    "    first_frame = image_sequence[0]\n",
    "    destination_folder_name = file+\"li_bg_subtract_full_bg//\"\n",
    "    if os.path.exists(destination_folder_name):\n",
    "        os.rmdir(destination_folder_name)\n",
    "    os.mkdir(destination_folder_name)\n",
    "    # Process first frame with Sauvola threshold\n",
    "\n",
    "    # Harvest background\n",
    "    #### This (the [0] index) might cause an error if _li_bg_subtract is present.... or isn't pressent...? ####\n",
    "    #bg_video_folder = glob.glob(file+'bg*'+'//')[0]\n",
    "    #### ############# ####\n",
    "    #background_video = skimage.io.imread_collection(bg_video_folder +'*', plugin=\"tifffile\")\n",
    "    #final_frames = image_sequence[-number_of_frames_background:-1]\n",
    "    bg_median = np.median(background_video, axis=0)\n",
    "    bg_median = bg_median[nozzle_row+crop_top:crop_bottom+crop_top, crop_width_start:crop_width_end]\n",
    "\n",
    "    # crop entire video\n",
    "    for i in range(0,len(image_sequence)):\n",
    "        image = image_sequence[i]\n",
    "        cropped_image = image[nozzle_row+crop_top:crop_bottom+crop_top, crop_width_start:crop_width_end]\n",
    "        bg_subtract_image = cropped_image - bg_median\n",
    "        bg_subtract_image = np.abs((bg_subtract_image < 0)*bg_subtract_image) #eliminates half the noise\n",
    "        #bg_subtract_image = np.uint16(bg_subtract_image)\n",
    "        #skimage.io.imsave(filename, bg_subtract_image)\n",
    "\n",
    "        filename = f\"{destination_folder_name}{i:03}.png\"\n",
    "        thresh_li = threshold_li(bg_subtract_image)\n",
    "        binary_li = bg_subtract_image > thresh_li\n",
    "        binary_li = np.array(binary_li)*255\n",
    "        binary_li = np.uint8(binary_li)\n",
    "        skimage.io.imsave(filename, binary_li, check_contrast=False)"
   ]
  },
  {
   "cell_type": "markdown",
   "metadata": {},
   "source": [
    "Steps:\n",
    "Import experimental video and background video\n",
    "\n",
    "Process background video\n",
    "* Find crop parameters  \n",
    "* Take the median of the background video\n",
    "* Crop \n",
    "\n",
    "Process experimental video\n",
    "* Crop according to parameters\n",
    "* Subtract background\n",
    "* Binarize \n",
    "* Save"
   ]
  },
  {
   "cell_type": "code",
   "execution_count": null,
   "metadata": {},
   "outputs": [],
   "source": [
    "def tiff_folder_to_image_collection(folder):\n",
    "    \"\"\"\n",
    "    Takes a folder and produces a skiamge image collection containing all of the images as a single variable \n",
    "    \"\"\"\n",
    "    if folder[-2:] != '//':\n",
    "        if folder[-1] == '/':\n",
    "            folder = folder+\"/\"\n",
    "        else:\n",
    "            folder=folder+\"//\"\n",
    "    return skimage.io.imread_collection(folder+\"*\", plugin='tifffile')\n"
   ]
  },
  {
   "cell_type": "code",
   "execution_count": 1,
   "metadata": {},
   "outputs": [
    {
     "data": {
      "text/plain": [
       "'2.5 mDa dlalsdf sad/'"
      ]
     },
     "execution_count": 1,
     "metadata": {},
     "output_type": "execute_result"
    }
   ],
   "source": [
    "a = \"2.5 mDa dlalsdf sad\"\n",
    "a+\"/\""
   ]
  },
  {
   "cell_type": "code",
   "execution_count": 3,
   "metadata": {},
   "outputs": [
    {
     "data": {
      "text/plain": [
       "'ad'"
      ]
     },
     "execution_count": 3,
     "metadata": {},
     "output_type": "execute_result"
    }
   ],
   "source": [
    "a[-2:]"
   ]
  },
  {
   "cell_type": "code",
   "execution_count": null,
   "metadata": {},
   "outputs": [],
   "source": [
    "####  parameters ####\n",
    "#window_size = 9\n",
    "nozzle_row = 1\n",
    "crop_width_coefficient = 0.02\n",
    "crop_height_coefficient = 2\n",
    "crop_nozzle_coef = 0.15"
   ]
  }
 ],
 "metadata": {
  "kernelspec": {
   "display_name": "Python 3",
   "language": "python",
   "name": "python3"
  },
  "language_info": {
   "codemirror_mode": {
    "name": "ipython",
    "version": 3
   },
   "file_extension": ".py",
   "mimetype": "text/x-python",
   "name": "python",
   "nbconvert_exporter": "python",
   "pygments_lexer": "ipython3",
   "version": "3.7.7"
  }
 },
 "nbformat": 4,
 "nbformat_minor": 4
}
