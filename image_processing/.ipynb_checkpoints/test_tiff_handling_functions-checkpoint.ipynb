{
 "cells": [
  {
   "cell_type": "code",
   "execution_count": null,
   "metadata": {},
   "outputs": [],
   "source": [
    "import tiff_handling.py\n",
    "\n",
    "def test_define_initial_parameters():\n",
    "    \"Not super sure how to test this right now\"\n",
    "    pass\n",
    "\n",
    "def test_tiff_folder_path_correction():\n",
    "    \"Make sure the folder correction works\"\n",
    "    assert tiff_handling.folder_path_correction(\"example_experimental_video\") == \"example_experimental_video//\"\n",
    "    assert tiff_handling.folder_path_correction(\"example_experimental_video/\") == \"example_experimental_video//\"\n",
    "    assert tiff_handling.folder_path_correction(\"example_experimental_video//\") == \"example_experimental_video//\"\n",
    "    \n",
    "def test_tiff_folder_to_image_collection():\n",
    "    example_experimenal_video = skimage.io.imread_collection(\"example_experimental_video//*\", plugin='tifffile')\n",
    "    assert tiff_handling.tiff_folder_to_image_collection(\"example_experimental_video\") == example_experimenal_video\n",
    "\n",
    "    \n",
    "    "
   ]
  }
 ],
 "metadata": {
  "kernelspec": {
   "display_name": "Python 3",
   "language": "python",
   "name": "python3"
  },
  "language_info": {
   "codemirror_mode": {
    "name": "ipython",
    "version": 3
   },
   "file_extension": ".py",
   "mimetype": "text/x-python",
   "name": "python",
   "nbconvert_exporter": "python",
   "pygments_lexer": "ipython3",
   "version": "3.8.5"
  }
 },
 "nbformat": 4,
 "nbformat_minor": 4
}
