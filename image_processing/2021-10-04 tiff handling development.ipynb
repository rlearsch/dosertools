{
 "cells": [
  {
   "cell_type": "code",
   "execution_count": null,
   "metadata": {},
   "outputs": [],
   "source": [
    "def define_image_parameters(background_video, params_dict):\n",
    "    \"\"\"\n",
    "    From the background video, determines the first-guess for the cropping operation. Based on the nozzle width and safety factors crop_width_coefficient, crop_height_coefficient, etc.\n",
    "    \"\"\"\n",
    "    first_frame = image_sequence[0]    \n",
    "    thresh_otsu = threshold_otsu(first_frame)\n",
    "    binary_otsu = first_frame < thresh_otsu\n",
    "    binary_otsu = np.array(binary_otsu)*255\n",
    "    binary_otsu = np.uint8(binary_otsu)\n",
    "\n",
    "    # Crop down to nozzle: \n",
    "    ## width = nozzle + 2%\n",
    "    ## height = nozzle * 2.5\n",
    "    non_zero_indicies = np.nonzero(binary_otsu[nozzle_row,:])\n",
    "    first_non_zero = non_zero_indicies[0][0]\n",
    "    last_non_zero = non_zero_indicies[0][-1]\n",
    "    diameter = last_non_zero - first_non_zero #pix\n",
    "    nozzle_diameter = diameter #white to white distance\n",
    "    \n",
    "    (crop_width_coefficient,crop_nozzle_coef,crop_nozzle_coef) = (params_dict[\"crop_width_coefficient\"],params_dict[\"crop_nozzle_coef\"],params_dict[\"crop_nozzle_coef\"]\n",
    "    crop_width_start = int(first_non_zero-int(nozzle_diameter*crop_width_coefficient))\n",
    "    crop_width_end = int(last_non_zero+int(nozzle_diameter*crop_width_coefficient))\n",
    "    crop_bottom = int(nozzle_diameter*crop_height_coefficient)\n",
    "    crop_top = int(nozzle_diameter*crop_nozzle_coef)\n",
    "    (params_dict[\"crop_width_start\"], params_dict[\"crop_width_end\"], params_dict[\"crop_bottom\"], parms_dict[\"crop_top\"]) = (crop_width_start, crop_width_end, crop_bottom, crop_top)\n",
    "\n",
    "    return params_dict"
   ]
  },
  {
   "cell_type": "code",
   "execution_count": null,
   "metadata": {},
   "outputs": [],
   "source": [
    "def nonzero_runs(array):\n",
    "    ## Returns array with shape (m, 2), where m is the number of \"runs\" of non-zeros\n",
    "    ## the first column sis the index of the first non-zero, the second is the index \n",
    "    ## of the first zero element after the run\n",
    "    ## modified from stackexchange comment\n",
    "    \n",
    "    # Create an array that is 1 where array is not 0, and pad each end with an extra 0.\n",
    "    contains_one = np.concatenate(([0], (~np.equal(array, 0).view(np.int8))+2, [0]))\n",
    "    absdiff = np.abs(np.diff(contains_one))\n",
    "    # Runs start and end where absdiff is 1.\n",
    "    ranges = np.where(absdiff == 1)[0].reshape(-1, 2)\n",
    "    return ranges\n",
    "\n",
    "def zero_runs(array):\n",
    "    # # it creates an array with shape (m, 2), where m is the number of \"runs\" of zeros. \n",
    "    ## The first column is the index of the first 0 in each run, and the second is the index of the first nonzero element after the run\n",
    "    \n",
    "    # Create an array that is 1 where a is 0, and pad each end with an extra 0.\n",
    "    iszero = np.concatenate(([0], np.equal(array, 0).view(np.int8), [0]))\n",
    "    absdiff = np.abs(np.diff(iszero))\n",
    "    # Runs start and end where absdiff is 1.\n",
    "    ranges = np.where(absdiff == 1)[0].reshape(-1, 2)\n",
    "    return ranges"
   ]
  },
  {
   "cell_type": "code",
   "execution_count": 18,
   "metadata": {},
   "outputs": [],
   "source": [
    "def convert_tiff_to_binary(experimental_sequence, bg_median, params_dict, intermediate_files_optional):\n",
    "    \"\"\"\n",
    "    Takes as arguments the skiamge image sequence holding the experimental video and the background image to subtract. \n",
    "    Performs, sequentially, cropping, background subtraction, and binarization by the Li method, and saves the binary images. \n",
    "    To do: optional arguments to save the output of the different steps\n",
    "    \"\"\"    \n",
    "    (nozzle_row, \n",
    "     crop_width_start, crop_width_end, crop_bottom, crop_top) = (params_dict[\"nozzle_row\"], \n",
    "                                                                 params_dict[\"crop_width_start\"], params_dict[\"crop_width_end\"], params_dict[\"crop_bottom\"], parms_dict[\"crop_top\"])\n",
    "\n",
    "    for i in range(0,len(experimental_sequence)):\n",
    "        image = image_sequence[i]\n",
    "        cropped_image = image[nozzle_row+crop_top:crop_bottom+crop_top, crop_width_start:crop_width_end]\n",
    "        # if intermediate_files_options = save cropped:\n",
    "            # save cropped \n",
    "            #skimage.io.imsave(filename, bg_subtract_image)\n",
    "\n",
    "        bg_subtract_image = cropped_image - bg_median\n",
    "        bg_subtract_image = np.abs((bg_subtract_image < 0)*bg_subtract_image) #eliminates half the noise\n",
    "            #if interemeddiate_files_optional = save cropped and bg subtract:\n",
    "                #save bg subtracted \n",
    "                #bg_subtract_image = np.uint16(bg_subtract_image)\n",
    "                #skimage.io.imsave(filename, bg_subtract_image)\n",
    "\n",
    "        filename = f\"{destination_folder_name}{i:03}.png\"\n",
    "        thresh_li = threshold_li(bg_subtract_image)\n",
    "        binary_li = bg_subtract_image > thresh_li\n",
    "        binary_li = np.array(binary_li)*255\n",
    "        binary_li = np.uint8(binary_li)\n",
    "        skimage.io.imsave(filename, binary_li, check_contrast=False)"
   ]
  },
  {
   "cell_type": "markdown",
   "metadata": {},
   "source": [
    "Steps:\n",
    "Import experimental video and background video\n",
    "\n",
    "Process background video\n",
    "* Find crop parameters  \n",
    "* Take the median of the background video\n",
    "* Crop \n",
    "\n",
    "Process experimental video\n",
    "* Crop according to parameters\n",
    "* Subtract background\n",
    "* Binarize \n",
    "* Save"
   ]
  },
  {
   "cell_type": "code",
   "execution_count": 4,
   "metadata": {},
   "outputs": [],
   "source": [
    "def tiff_folder_to_image_collection(folder):\n",
    "    \"\"\"\n",
    "    Takes a folder and produces a skiamge image collection containing all of the images as a single variable \n",
    "    \"\"\"\n",
    "    if folder[-2:] != '//':\n",
    "        if folder[-1] == '/':\n",
    "            folder = folder+\"/\"\n",
    "        else:\n",
    "            folder=folder+\"//\"\n",
    "    return skimage.io.imread_collection(folder+\"*\", plugin='tifffile')\n"
   ]
  },
  {
   "cell_type": "code",
   "execution_count": 1,
   "metadata": {},
   "outputs": [
    {
     "data": {
      "text/plain": [
       "'2.5 mDa dlalsdf sad/'"
      ]
     },
     "execution_count": 1,
     "metadata": {},
     "output_type": "execute_result"
    }
   ],
   "source": [
    "def produce_background_image(background_video):\n",
    "    \"\"\"\n",
    "    Description\n",
    "    \"\"\"\n",
    "    bg_median = np.median(background_video, axis=0)\n",
    "    bg_median = bg_median[nozzle_row+crop_top:crop_bottom+crop_top, crop_width_start:crop_width_end]"
   ]
  },
  {
   "cell_type": "code",
   "execution_count": 3,
   "metadata": {},
   "outputs": [
    {
     "data": {
      "text/plain": [
       "'ad'"
      ]
     },
     "execution_count": 3,
     "metadata": {},
     "output_type": "execute_result"
    }
   ],
   "source": [
    "a[-2:]"
   ]
  },
  {
   "cell_type": "code",
   "execution_count": 1,
   "metadata": {},
   "outputs": [],
   "source": [
    "def define_initial_parameters():\n",
    "    params_dict = dict(\n",
    "        nozzle_row = 1, \n",
    "        crop_width_coefficient = 0.02, \n",
    "        crop_height_coefficient = 2,\n",
    "        crop_nozzle_coef = 0.15,\n",
    "    )    \n",
    "    return params_dict"
   ]
  },
  {
   "cell_type": "code",
   "execution_count": null,
   "metadata": {},
   "outputs": [],
   "source": [
    "### Overall flow\n",
    "\n",
    "# assuming inputs will be locations of experimental video (exp_folder), background video (bg_folder), and information on which intermediate files to save (intermediate_files_optional)\n",
    "\n",
    "# step 0 - maybe in file handling module : make folders for binary images, and other intermediate images as requested\n",
    "\n",
    "params_dict = define_initial_parameters()\n",
    "experimental_video = tiff_folder_to_image_collection(exp_folder)\n",
    "background_video = tiff_folder_to_image_collection(bg_folder)\n",
    "params_dict = define_image_parameters(background_video)\n",
    "bg_image = produce_background_image(background_video, params_dict)\n",
    "convert_tiff_to_binary(experimental_video, bg_image, params_dict, intermediate_files_optional)\n"
   ]
  },
  {
   "cell_type": "code",
   "execution_count": null,
   "metadata": {},
   "outputs": [],
   "source": [
    "### make destination folders\n",
    "destination_folder_name = file+\"li_bg_subtract_full_bg//\"\n",
    "    if os.path.exists(destination_folder_name):\n",
    "        os.rmdir(destination_folder_name)\n",
    "    os.mkdir(destination_folder_name)"
   ]
  },
  {
   "cell_type": "code",
   "execution_count": null,
   "metadata": {},
   "outputs": [],
   "source": [
    "### Overall flow\n",
    "\n",
    "# assuming inputs will be locations of experimental video (exp_folder), background video (bg_folder), and information on which intermediate files to save (intermediate_files_optional)\n",
    "\n",
    "# step 0 - maybe in file handling module : make folders for binary images, and other intermediate images as requested\n",
    "def fully_process_tiffs(experimental_video_folder, background_video_folder, save_location, intermediate_files_optional):\n",
    "    params_dict = define_initial_parameters()\n",
    "    experimental_video = tiff_folder_to_image_collection(experimental_video_folder)\n",
    "    background_video = tiff_folder_to_image_collection(background_video_folder)\n",
    "    #make_destination_folders()\n",
    "    params_dict = define_image_parameters(background_video)\n",
    "    bg_image = produce_background_image(background_video, params_dict)\n",
    "    convert_tiff_to_binary(experimental_video, bg_image, params_dict, intermediate_files_optional)\n"
   ]
  },
  {
   "cell_type": "code",
   "execution_count": 2,
   "metadata": {},
   "outputs": [],
   "source": [
    "pa_d = define_initial_parameters()"
   ]
  },
  {
   "cell_type": "code",
   "execution_count": 3,
   "metadata": {},
   "outputs": [
    {
     "data": {
      "text/plain": [
       "{'nozzle_row': 1,\n",
       " 'crop_width_coefficient': 0.02,\n",
       " 'crop_height_coefficient': 2,\n",
       " 'crop_nozzle_coef': 0.15}"
      ]
     },
     "execution_count": 3,
     "metadata": {},
     "output_type": "execute_result"
    }
   ],
   "source": [
    "pa_d"
   ]
  },
  {
   "cell_type": "code",
   "execution_count": null,
   "metadata": {},
   "outputs": [],
   "source": []
  }
 ],
 "metadata": {
  "kernelspec": {
   "display_name": "Python 3",
   "language": "python",
   "name": "python3"
  },
  "language_info": {
   "codemirror_mode": {
    "name": "ipython",
    "version": 3
   },
   "file_extension": ".py",
   "mimetype": "text/x-python",
   "name": "python",
   "nbconvert_exporter": "python",
   "pygments_lexer": "ipython3",
   "version": "3.8.5"
  }
 },
 "nbformat": 4,
 "nbformat_minor": 4
}
